{
 "metadata": {
  "language_info": {
   "codemirror_mode": {
    "name": "ipython",
    "version": 3
   },
   "file_extension": ".py",
   "mimetype": "text/x-python",
   "name": "python",
   "nbconvert_exporter": "python",
   "pygments_lexer": "ipython3",
   "version": "3.7.9-final"
  },
  "orig_nbformat": 2,
  "kernelspec": {
   "name": "python3",
   "display_name": "Python 3",
   "language": "python"
  }
 },
 "nbformat": 4,
 "nbformat_minor": 2,
 "cells": [
  {
   "source": [
    "# Writing your own Extractor\n",
    "\n",
    "This tutorial shows how you can extend RDV with your own custom feature extractors. \n",
    "\n",
    "Note that some outputs may not be work when viewing on Github since they make use of Dash apps that require a server to be launched in the background. We recommend to clone this repo and execute the notebooks locally."
   ],
   "cell_type": "markdown",
   "metadata": {}
  },
  {
   "source": [
    "When writing your feature extractor, you need to implement the `rdv.extracotrs.Extractor` interface. This interface inherits the `rdv.globals.Buildable` and `rdv.globals.Serializable` interfaces. The code snippet below shows the full interface that has to be implemented."
   ],
   "cell_type": "markdown",
   "metadata": {}
  },
  {
   "cell_type": "code",
   "execution_count": 5,
   "metadata": {},
   "outputs": [],
   "source": [
    "from raymon.profiling.extractors import Extractor\n",
    "\n",
    "\n",
    "class KMeansOutlierScorer(SimpleExtractor):\n",
    "    \"\"\"Extractor Interface\"\"\"\n",
    "    def extract_feature(self, data):\n",
    "        \"\"\"Extracts a feature from a data instance.\n",
    "\n",
    "        Parameters\n",
    "        ----------\n",
    "        data : any\n",
    "            The data instance you want to extract a feature from. The type is up to you.\n",
    "\n",
    "        \"\"\"\n",
    "        # Do something\n",
    "        return 1.0 # Return a float, int or str\n",
    "    \n",
    "    \"\"\"Buildable interface\"\"\"\n",
    "    def build(self, input, output, actual):\n",
    "        \"\"\"Your feature extractor must be Buildable. This means that it may use data to set some reference values, used to calculate the feature to be extracted from a data sample. A good example for this is the `rdv.extractors.structured.KMeansOutlierScorer` extractor, which clusters the data at building time and saves those clusters as reference in the objects state. If you dont require and buildabe state, like the `rdv.extractors.structured.ElementExtractor`, don't do anything in this function.\n",
    "\n",
    "        Parameters\n",
    "        ----------\n",
    "        data : any\n",
    "            The set of data available at building time. Can be any type you want.\n",
    "        Returns\n",
    "        -------\n",
    "        None\n",
    "        \"\"\"\n",
    "        pass\n",
    "\n",
    "    def is_built(self):\n",
    "        \"\"\"\n",
    "        Check whether the object has been built. Typically, this method checks whether the required references for the object is set. If your Extractor does not use any references, simply return True.\n",
    "\n",
    "        Returns\n",
    "        -------\n",
    "        is_built : bool\n",
    "        \"\"\"\n",
    "        return True\n",
    "\n",
    "\n",
    "    \"\"\"Serializable interface\"\"\"\n",
    "    def to_jcr(self):\n",
    "        \"\"\"Return a JSON compatible representation of the object. Will generally return a dict cintaining the objects state, but can return anything JSON serializable. json.dumps(xxx) will be called on the output xxx of this function.\"\"\"\n",
    "        # Return a json-compatible representation\n",
    "        raise NotImplementedError()\n",
    "\n",
    "    @classmethod\n",
    "    def from_jcr(cls, jcr):\n",
    "        \"\"\"Given the JSON compatible representation from the function above, load an object of this type with the desired state.\n",
    "\n",
    "        Parameters\n",
    "        ----------\n",
    "        jcr : [dict]\n",
    "            The jcr representation returned from the `to_jcr` function above. Will generally be a dict, but can be  anything JSON serializable.\n",
    "            \n",
    "        Returns\n",
    "        -------\n",
    "        obj : this\n",
    "            An object with type of your extractor.\n",
    "        \"\"\"\n",
    "        # Load a json-compatible representation\n",
    "        raise NotImplementedError()"
   ]
  },
  {
   "source": [
    "You can pass any object that implements the interface above as Extractor. **You do need to make sure that to code definition is available at train and test time**, because RDV saves the classpath of every Extractor i nthe schema JSON when saving, and tries to load it when instantiating the Schema and its Features as can be seen [here](https://github.com/raymon-ai/data-validation/blob/master/rdv/feature.py#L168). \n",
    "\n",
    "You can use the existing extractors as guide to implement your own. Good examples the simple [ElementExtractor](https://github.com/raymon-ai/data-validation/blob/master/rdv/extractors/structured/element.py) and the more advanced [ KMeansOutlierScorer](https://github.com/raymon-ai/data-validation/blob/master/rdv/extractors/structured/kmeans.py)."
   ],
   "cell_type": "markdown",
   "metadata": {}
  },
  {
   "cell_type": "code",
   "execution_count": null,
   "metadata": {},
   "outputs": [],
   "source": []
  },
  {
   "cell_type": "code",
   "execution_count": null,
   "metadata": {},
   "outputs": [],
   "source": []
  },
  {
   "cell_type": "code",
   "execution_count": null,
   "metadata": {},
   "outputs": [],
   "source": []
  },
  {
   "cell_type": "code",
   "execution_count": null,
   "metadata": {},
   "outputs": [],
   "source": []
  }
 ]
}