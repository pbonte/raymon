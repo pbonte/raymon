{
 "metadata": {
  "language_info": {
   "codemirror_mode": {
    "name": "ipython",
    "version": 3
   },
   "file_extension": ".py",
   "mimetype": "text/x-python",
   "name": "python",
   "nbconvert_exporter": "python",
   "pygments_lexer": "ipython3",
   "version": "3.7.9-final"
  },
  "orig_nbformat": 2,
  "kernelspec": {
   "name": "python3",
   "display_name": "Python 3.7.9 64-bit ('rdv': conda)",
   "metadata": {
    "interpreter": {
     "hash": "09f0c5c7df71839e2a6d18fcf9d09504a660b4df6ca5f3f81a4e2f77215ac854"
    }
   }
  }
 },
 "nbformat": 4,
 "nbformat_minor": 2,
 "cells": [
  {
   "source": [
    "# Building and using schemas for structured data\n",
    "This tutorial uses the Ames Housing dataset: https://www.kaggle.com/c/house-prices-advanced-regression-techniques/overview\n",
    "\n",
    "Note that some outputs may not be work when viewing on Github since they make use of Dash apps that require a server to be launched in the background. We recommend to clone this repo and execute the notebooks locally."
   ],
   "cell_type": "markdown",
   "metadata": {}
  },
  {
   "cell_type": "code",
   "execution_count": 1,
   "metadata": {},
   "outputs": [],
   "source": [
    "%load_ext autoreload\n",
    "%autoreload 2\n",
    "import pandas as pd"
   ]
  },
  {
   "source": [
    "Let's start by reading a subset of the dataset. This subset just happens to mostly contain houses on the cheaper end of the price spectrum, which will come in handy later.\n",
    "\n",
    "See the file `./data_sample/houseprices/data_description.txt` for an explanation of what the features mean. For now, it's just important to know that this is a dataset that contains both numerical and categorial features."
   ],
   "cell_type": "markdown",
   "metadata": {}
  },
  {
   "cell_type": "code",
   "execution_count": 2,
   "metadata": {},
   "outputs": [
    {
     "output_type": "execute_result",
     "data": {
      "text/plain": [
       "   MSSubClass MSZoning  LotFrontage  LotArea Street Alley LotShape  \\\n",
       "0          70       RL         60.0     9550   Pave   NaN      IR1   \n",
       "1          50       RL         85.0    14115   Pave   NaN      IR1   \n",
       "2          50       RM         51.0     6120   Pave   NaN      Reg   \n",
       "3         190       RL         50.0     7420   Pave   NaN      Reg   \n",
       "4          20       RL         70.0    11200   Pave   NaN      Reg   \n",
       "\n",
       "  LandContour Utilities LotConfig  ... PoolArea PoolQC  Fence MiscFeature  \\\n",
       "0         Lvl    AllPub    Corner  ...        0    NaN    NaN         NaN   \n",
       "1         Lvl    AllPub    Inside  ...        0    NaN  MnPrv        Shed   \n",
       "2         Lvl    AllPub    Inside  ...        0    NaN    NaN         NaN   \n",
       "3         Lvl    AllPub    Corner  ...        0    NaN    NaN         NaN   \n",
       "4         Lvl    AllPub    Inside  ...        0    NaN    NaN         NaN   \n",
       "\n",
       "  MiscVal MoSold  YrSold  SaleType  SaleCondition  SalePrice  \n",
       "0       0      2    2006        WD        Abnorml     140000  \n",
       "1     700     10    2009        WD         Normal     143000  \n",
       "2       0      4    2008        WD        Abnorml     129900  \n",
       "3       0      1    2008        WD         Normal     118000  \n",
       "4       0      2    2008        WD         Normal     129500  \n",
       "\n",
       "[5 rows x 80 columns]"
      ],
      "text/html": "<div>\n<style scoped>\n    .dataframe tbody tr th:only-of-type {\n        vertical-align: middle;\n    }\n\n    .dataframe tbody tr th {\n        vertical-align: top;\n    }\n\n    .dataframe thead th {\n        text-align: right;\n    }\n</style>\n<table border=\"1\" class=\"dataframe\">\n  <thead>\n    <tr style=\"text-align: right;\">\n      <th></th>\n      <th>MSSubClass</th>\n      <th>MSZoning</th>\n      <th>LotFrontage</th>\n      <th>LotArea</th>\n      <th>Street</th>\n      <th>Alley</th>\n      <th>LotShape</th>\n      <th>LandContour</th>\n      <th>Utilities</th>\n      <th>LotConfig</th>\n      <th>...</th>\n      <th>PoolArea</th>\n      <th>PoolQC</th>\n      <th>Fence</th>\n      <th>MiscFeature</th>\n      <th>MiscVal</th>\n      <th>MoSold</th>\n      <th>YrSold</th>\n      <th>SaleType</th>\n      <th>SaleCondition</th>\n      <th>SalePrice</th>\n    </tr>\n  </thead>\n  <tbody>\n    <tr>\n      <th>0</th>\n      <td>70</td>\n      <td>RL</td>\n      <td>60.0</td>\n      <td>9550</td>\n      <td>Pave</td>\n      <td>NaN</td>\n      <td>IR1</td>\n      <td>Lvl</td>\n      <td>AllPub</td>\n      <td>Corner</td>\n      <td>...</td>\n      <td>0</td>\n      <td>NaN</td>\n      <td>NaN</td>\n      <td>NaN</td>\n      <td>0</td>\n      <td>2</td>\n      <td>2006</td>\n      <td>WD</td>\n      <td>Abnorml</td>\n      <td>140000</td>\n    </tr>\n    <tr>\n      <th>1</th>\n      <td>50</td>\n      <td>RL</td>\n      <td>85.0</td>\n      <td>14115</td>\n      <td>Pave</td>\n      <td>NaN</td>\n      <td>IR1</td>\n      <td>Lvl</td>\n      <td>AllPub</td>\n      <td>Inside</td>\n      <td>...</td>\n      <td>0</td>\n      <td>NaN</td>\n      <td>MnPrv</td>\n      <td>Shed</td>\n      <td>700</td>\n      <td>10</td>\n      <td>2009</td>\n      <td>WD</td>\n      <td>Normal</td>\n      <td>143000</td>\n    </tr>\n    <tr>\n      <th>2</th>\n      <td>50</td>\n      <td>RM</td>\n      <td>51.0</td>\n      <td>6120</td>\n      <td>Pave</td>\n      <td>NaN</td>\n      <td>Reg</td>\n      <td>Lvl</td>\n      <td>AllPub</td>\n      <td>Inside</td>\n      <td>...</td>\n      <td>0</td>\n      <td>NaN</td>\n      <td>NaN</td>\n      <td>NaN</td>\n      <td>0</td>\n      <td>4</td>\n      <td>2008</td>\n      <td>WD</td>\n      <td>Abnorml</td>\n      <td>129900</td>\n    </tr>\n    <tr>\n      <th>3</th>\n      <td>190</td>\n      <td>RL</td>\n      <td>50.0</td>\n      <td>7420</td>\n      <td>Pave</td>\n      <td>NaN</td>\n      <td>Reg</td>\n      <td>Lvl</td>\n      <td>AllPub</td>\n      <td>Corner</td>\n      <td>...</td>\n      <td>0</td>\n      <td>NaN</td>\n      <td>NaN</td>\n      <td>NaN</td>\n      <td>0</td>\n      <td>1</td>\n      <td>2008</td>\n      <td>WD</td>\n      <td>Normal</td>\n      <td>118000</td>\n    </tr>\n    <tr>\n      <th>4</th>\n      <td>20</td>\n      <td>RL</td>\n      <td>70.0</td>\n      <td>11200</td>\n      <td>Pave</td>\n      <td>NaN</td>\n      <td>Reg</td>\n      <td>Lvl</td>\n      <td>AllPub</td>\n      <td>Inside</td>\n      <td>...</td>\n      <td>0</td>\n      <td>NaN</td>\n      <td>NaN</td>\n      <td>NaN</td>\n      <td>0</td>\n      <td>2</td>\n      <td>2008</td>\n      <td>WD</td>\n      <td>Normal</td>\n      <td>129500</td>\n    </tr>\n  </tbody>\n</table>\n<p>5 rows × 80 columns</p>\n</div>"
     },
     "metadata": {},
     "execution_count": 2
    }
   ],
   "source": [
    "DATA_PATH = \"./data_sample/houseprices/subset-cheap.csv\"\n",
    "all_data = pd.read_csv(DATA_PATH).drop(\"Id\", axis=\"columns\")\n",
    "all_data.head(5)"
   ]
  },
  {
   "source": [
    "## The cumbersome way\n",
    "One (cumbersome) way to define a schema for this dataframe is by specifying all features to be tracked manually. This is shown below for some features."
   ],
   "cell_type": "markdown",
   "metadata": {}
  },
  {
   "cell_type": "code",
   "execution_count": 3,
   "metadata": {},
   "outputs": [
    {
     "output_type": "stream",
     "name": "stdout",
     "text": [
      "Schema(name=\"manually-defined\", version=\"0.0.1\"\n"
     ]
    },
    {
     "output_type": "execute_result",
     "data": {
      "text/plain": [
       "{'mssubclass': IntFeature(name=mssubclass, extractor=ElementExtractor(element=MSSubClass)),\n",
       " 'mszoning': CategoricFeature(name=mszoning, extractor=ElementExtractor(element=MSZoning)),\n",
       " 'lotfrontage': FloatFeature(name=lotfrontage, extractor=ElementExtractor(element=LotFrontage))}"
      ]
     },
     "metadata": {},
     "execution_count": 3
    }
   ],
   "source": [
    "from rdv.schema import Schema\n",
    "from rdv.extractors.structured import ElementExtractor\n",
    "from rdv.feature import CategoricFeature, IntFeature, FloatFeature\n",
    "\n",
    "schema_manual = Schema(\n",
    "    # A schema needs a name and version\n",
    "    name=\"manually-defined\", \n",
    "    version=\"0.0.1\", \n",
    "    # Now, we specify the features we want to track.\n",
    "    features=[\n",
    "        IntFeature(name=\"MSSubClass\", extractor=ElementExtractor(\"MSSubClass\")),\n",
    "        CategoricFeature(name=\"MSZoning\", extractor=ElementExtractor(\"MSZoning\")),\n",
    "        FloatFeature(name=\"LotFrontage\", extractor=ElementExtractor(\"LotFrontage\")),\n",
    "    ])\n",
    "print(schema_manual)\n",
    "schema_manual.features"
   ]
  },
  {
   "source": [
    "## Simplified way\n",
    "Since we simply want to extract every single feature from a feature vector in this case, the above seems needlessly cumbersome for a dataframe with 80 columns. Therefore, you can use the `construct_features` function, a shown below.\n",
    "\n",
    "If you'd want to extract another kind of feature too, like a one-hot check or a subvector norm check, you could combine both approaches into one list before passing it to the schema constructor. "
   ],
   "cell_type": "markdown",
   "metadata": {}
  },
  {
   "cell_type": "code",
   "execution_count": 4,
   "metadata": {},
   "outputs": [
    {
     "output_type": "stream",
     "name": "stdout",
     "text": [
      "Schema(name=\"auto-defined\", version=\"0.0.1\"\n"
     ]
    },
    {
     "output_type": "execute_result",
     "data": {
      "text/plain": [
       "{'mssubclass': IntFeature(name=mssubclass, extractor=ElementExtractor(element=MSSubClass)),\n",
       " 'mszoning': CategoricFeature(name=mszoning, extractor=ElementExtractor(element=MSZoning)),\n",
       " 'lotfrontage': FloatFeature(name=lotfrontage, extractor=ElementExtractor(element=LotFrontage)),\n",
       " 'lotarea': IntFeature(name=lotarea, extractor=ElementExtractor(element=LotArea)),\n",
       " 'street': CategoricFeature(name=street, extractor=ElementExtractor(element=Street)),\n",
       " 'alley': CategoricFeature(name=alley, extractor=ElementExtractor(element=Alley)),\n",
       " 'lotshape': CategoricFeature(name=lotshape, extractor=ElementExtractor(element=LotShape)),\n",
       " 'landcontour': CategoricFeature(name=landcontour, extractor=ElementExtractor(element=LandContour)),\n",
       " 'utilities': CategoricFeature(name=utilities, extractor=ElementExtractor(element=Utilities)),\n",
       " 'lotconfig': CategoricFeature(name=lotconfig, extractor=ElementExtractor(element=LotConfig)),\n",
       " 'landslope': CategoricFeature(name=landslope, extractor=ElementExtractor(element=LandSlope)),\n",
       " 'neighborhood': CategoricFeature(name=neighborhood, extractor=ElementExtractor(element=Neighborhood)),\n",
       " 'condition1': CategoricFeature(name=condition1, extractor=ElementExtractor(element=Condition1)),\n",
       " 'condition2': CategoricFeature(name=condition2, extractor=ElementExtractor(element=Condition2)),\n",
       " 'bldgtype': CategoricFeature(name=bldgtype, extractor=ElementExtractor(element=BldgType)),\n",
       " 'housestyle': CategoricFeature(name=housestyle, extractor=ElementExtractor(element=HouseStyle)),\n",
       " 'overallqual': IntFeature(name=overallqual, extractor=ElementExtractor(element=OverallQual)),\n",
       " 'overallcond': IntFeature(name=overallcond, extractor=ElementExtractor(element=OverallCond)),\n",
       " 'yearbuilt': IntFeature(name=yearbuilt, extractor=ElementExtractor(element=YearBuilt)),\n",
       " 'yearremodadd': IntFeature(name=yearremodadd, extractor=ElementExtractor(element=YearRemodAdd)),\n",
       " 'roofstyle': CategoricFeature(name=roofstyle, extractor=ElementExtractor(element=RoofStyle)),\n",
       " 'roofmatl': CategoricFeature(name=roofmatl, extractor=ElementExtractor(element=RoofMatl)),\n",
       " 'exterior1st': CategoricFeature(name=exterior1st, extractor=ElementExtractor(element=Exterior1st)),\n",
       " 'exterior2nd': CategoricFeature(name=exterior2nd, extractor=ElementExtractor(element=Exterior2nd)),\n",
       " 'masvnrtype': CategoricFeature(name=masvnrtype, extractor=ElementExtractor(element=MasVnrType)),\n",
       " 'masvnrarea': FloatFeature(name=masvnrarea, extractor=ElementExtractor(element=MasVnrArea)),\n",
       " 'exterqual': CategoricFeature(name=exterqual, extractor=ElementExtractor(element=ExterQual)),\n",
       " 'extercond': CategoricFeature(name=extercond, extractor=ElementExtractor(element=ExterCond)),\n",
       " 'foundation': CategoricFeature(name=foundation, extractor=ElementExtractor(element=Foundation)),\n",
       " 'bsmtqual': CategoricFeature(name=bsmtqual, extractor=ElementExtractor(element=BsmtQual)),\n",
       " 'bsmtcond': CategoricFeature(name=bsmtcond, extractor=ElementExtractor(element=BsmtCond)),\n",
       " 'bsmtexposure': CategoricFeature(name=bsmtexposure, extractor=ElementExtractor(element=BsmtExposure)),\n",
       " 'bsmtfintype1': CategoricFeature(name=bsmtfintype1, extractor=ElementExtractor(element=BsmtFinType1)),\n",
       " 'bsmtfinsf1': IntFeature(name=bsmtfinsf1, extractor=ElementExtractor(element=BsmtFinSF1)),\n",
       " 'bsmtfintype2': CategoricFeature(name=bsmtfintype2, extractor=ElementExtractor(element=BsmtFinType2)),\n",
       " 'bsmtfinsf2': IntFeature(name=bsmtfinsf2, extractor=ElementExtractor(element=BsmtFinSF2)),\n",
       " 'bsmtunfsf': IntFeature(name=bsmtunfsf, extractor=ElementExtractor(element=BsmtUnfSF)),\n",
       " 'totalbsmtsf': IntFeature(name=totalbsmtsf, extractor=ElementExtractor(element=TotalBsmtSF)),\n",
       " 'heating': CategoricFeature(name=heating, extractor=ElementExtractor(element=Heating)),\n",
       " 'heatingqc': CategoricFeature(name=heatingqc, extractor=ElementExtractor(element=HeatingQC)),\n",
       " 'centralair': CategoricFeature(name=centralair, extractor=ElementExtractor(element=CentralAir)),\n",
       " 'electrical': CategoricFeature(name=electrical, extractor=ElementExtractor(element=Electrical)),\n",
       " '1stflrsf': IntFeature(name=1stflrsf, extractor=ElementExtractor(element=1stFlrSF)),\n",
       " '2ndflrsf': IntFeature(name=2ndflrsf, extractor=ElementExtractor(element=2ndFlrSF)),\n",
       " 'lowqualfinsf': IntFeature(name=lowqualfinsf, extractor=ElementExtractor(element=LowQualFinSF)),\n",
       " 'grlivarea': IntFeature(name=grlivarea, extractor=ElementExtractor(element=GrLivArea)),\n",
       " 'bsmtfullbath': IntFeature(name=bsmtfullbath, extractor=ElementExtractor(element=BsmtFullBath)),\n",
       " 'bsmthalfbath': IntFeature(name=bsmthalfbath, extractor=ElementExtractor(element=BsmtHalfBath)),\n",
       " 'fullbath': IntFeature(name=fullbath, extractor=ElementExtractor(element=FullBath)),\n",
       " 'halfbath': IntFeature(name=halfbath, extractor=ElementExtractor(element=HalfBath)),\n",
       " 'bedroomabvgr': IntFeature(name=bedroomabvgr, extractor=ElementExtractor(element=BedroomAbvGr)),\n",
       " 'kitchenabvgr': IntFeature(name=kitchenabvgr, extractor=ElementExtractor(element=KitchenAbvGr)),\n",
       " 'kitchenqual': CategoricFeature(name=kitchenqual, extractor=ElementExtractor(element=KitchenQual)),\n",
       " 'totrmsabvgrd': IntFeature(name=totrmsabvgrd, extractor=ElementExtractor(element=TotRmsAbvGrd)),\n",
       " 'functional': CategoricFeature(name=functional, extractor=ElementExtractor(element=Functional)),\n",
       " 'fireplaces': IntFeature(name=fireplaces, extractor=ElementExtractor(element=Fireplaces)),\n",
       " 'fireplacequ': CategoricFeature(name=fireplacequ, extractor=ElementExtractor(element=FireplaceQu)),\n",
       " 'garagetype': CategoricFeature(name=garagetype, extractor=ElementExtractor(element=GarageType)),\n",
       " 'garageyrblt': FloatFeature(name=garageyrblt, extractor=ElementExtractor(element=GarageYrBlt)),\n",
       " 'garagefinish': CategoricFeature(name=garagefinish, extractor=ElementExtractor(element=GarageFinish)),\n",
       " 'garagecars': IntFeature(name=garagecars, extractor=ElementExtractor(element=GarageCars)),\n",
       " 'garagearea': IntFeature(name=garagearea, extractor=ElementExtractor(element=GarageArea)),\n",
       " 'garagequal': CategoricFeature(name=garagequal, extractor=ElementExtractor(element=GarageQual)),\n",
       " 'garagecond': CategoricFeature(name=garagecond, extractor=ElementExtractor(element=GarageCond)),\n",
       " 'paveddrive': CategoricFeature(name=paveddrive, extractor=ElementExtractor(element=PavedDrive)),\n",
       " 'wooddecksf': IntFeature(name=wooddecksf, extractor=ElementExtractor(element=WoodDeckSF)),\n",
       " 'openporchsf': IntFeature(name=openporchsf, extractor=ElementExtractor(element=OpenPorchSF)),\n",
       " 'enclosedporch': IntFeature(name=enclosedporch, extractor=ElementExtractor(element=EnclosedPorch)),\n",
       " '3ssnporch': IntFeature(name=3ssnporch, extractor=ElementExtractor(element=3SsnPorch)),\n",
       " 'screenporch': IntFeature(name=screenporch, extractor=ElementExtractor(element=ScreenPorch)),\n",
       " 'poolarea': IntFeature(name=poolarea, extractor=ElementExtractor(element=PoolArea)),\n",
       " 'poolqc': CategoricFeature(name=poolqc, extractor=ElementExtractor(element=PoolQC)),\n",
       " 'fence': CategoricFeature(name=fence, extractor=ElementExtractor(element=Fence)),\n",
       " 'miscfeature': CategoricFeature(name=miscfeature, extractor=ElementExtractor(element=MiscFeature)),\n",
       " 'miscval': IntFeature(name=miscval, extractor=ElementExtractor(element=MiscVal)),\n",
       " 'mosold': IntFeature(name=mosold, extractor=ElementExtractor(element=MoSold)),\n",
       " 'yrsold': IntFeature(name=yrsold, extractor=ElementExtractor(element=YrSold)),\n",
       " 'saletype': CategoricFeature(name=saletype, extractor=ElementExtractor(element=SaleType)),\n",
       " 'salecondition': CategoricFeature(name=salecondition, extractor=ElementExtractor(element=SaleCondition)),\n",
       " 'saleprice': IntFeature(name=saleprice, extractor=ElementExtractor(element=SalePrice))}"
      ]
     },
     "metadata": {},
     "execution_count": 4
    }
   ],
   "source": [
    "from rdv.extractors.structured import construct_features\n",
    "\n",
    "schema = Schema(\n",
    "    name=\"auto-defined\", \n",
    "    version=\"0.0.1\", \n",
    "    features=construct_features(all_data.dtypes),\n",
    "    importances={'1stflrsf': 1,\n",
    "    '2ndflrsf': 1,\n",
    "    '3ssnporch': 1,\n",
    "    'alley': 1})\n",
    "print(schema)\n",
    "schema.features"
   ]
  },
  {
   "source": [
    "## Building the schema\n",
    "\n",
    "Now that we have defined how the data looks like, we can build the schema. This will build stats for every registered feature.\n",
    "\n",
    "We can also pass the domain for the features. All values that are outside the domain will be counted as invalid features by the schema."
   ],
   "cell_type": "markdown",
   "metadata": {}
  },
  {
   "cell_type": "code",
   "execution_count": 5,
   "metadata": {},
   "outputs": [
    {
     "output_type": "stream",
     "name": "stdout",
     "text": [
      "Compiling stats for mssubclass\n",
      "Compiling stats for mszoning\n",
      "Compiling stats for lotfrontage\n",
      "Compiling stats for lotarea\n",
      "Compiling stats for street\n",
      "Compiling stats for alley\n",
      "Compiling stats for lotshape\n",
      "Compiling stats for landcontour\n",
      "Compiling stats for utilities\n",
      "Compiling stats for lotconfig\n",
      "Compiling stats for landslope\n",
      "Compiling stats for neighborhood\n",
      "Compiling stats for condition1\n",
      "Compiling stats for condition2\n",
      "Compiling stats for bldgtype\n",
      "Compiling stats for housestyle\n",
      "Compiling stats for overallqual\n",
      "Compiling stats for overallcond\n",
      "Compiling stats for yearbuilt\n",
      "Compiling stats for yearremodadd\n",
      "Compiling stats for roofstyle\n",
      "Compiling stats for roofmatl\n",
      "Compiling stats for exterior1st\n",
      "Compiling stats for exterior2nd\n",
      "Compiling stats for masvnrtype\n",
      "Compiling stats for masvnrarea\n",
      "Compiling stats for exterqual\n",
      "Compiling stats for extercond\n",
      "Compiling stats for foundation\n",
      "Compiling stats for bsmtqual\n",
      "Compiling stats for bsmtcond\n",
      "Compiling stats for bsmtexposure\n",
      "Compiling stats for bsmtfintype1\n",
      "Compiling stats for bsmtfinsf1\n",
      "Compiling stats for bsmtfintype2\n",
      "Compiling stats for bsmtfinsf2\n",
      "Compiling stats for bsmtunfsf\n",
      "Compiling stats for totalbsmtsf\n",
      "Compiling stats for heating\n",
      "Compiling stats for heatingqc\n",
      "Compiling stats for centralair\n",
      "Compiling stats for electrical\n",
      "Compiling stats for 1stflrsf\n",
      "Compiling stats for 2ndflrsf\n",
      "Compiling stats for lowqualfinsf\n",
      "Compiling stats for grlivarea\n",
      "Compiling stats for bsmtfullbath\n",
      "Compiling stats for bsmthalfbath\n",
      "Compiling stats for fullbath\n",
      "Compiling stats for halfbath\n",
      "Compiling stats for bedroomabvgr\n",
      "Compiling stats for kitchenabvgr\n",
      "Compiling stats for kitchenqual\n",
      "Compiling stats for totrmsabvgrd\n",
      "Compiling stats for functional\n",
      "Compiling stats for fireplaces\n",
      "Compiling stats for fireplacequ\n",
      "Compiling stats for garagetype\n",
      "Compiling stats for garageyrblt\n",
      "Compiling stats for garagefinish\n",
      "Compiling stats for garagecars\n",
      "Compiling stats for garagearea\n",
      "Compiling stats for garagequal\n",
      "Compiling stats for garagecond\n",
      "Compiling stats for paveddrive\n",
      "Compiling stats for wooddecksf\n",
      "Compiling stats for openporchsf\n",
      "Compiling stats for enclosedporch\n",
      "Compiling stats for 3ssnporch\n",
      "Compiling stats for screenporch\n",
      "Compiling stats for poolarea\n",
      "Compiling stats for poolqc\n",
      "Compiling stats for fence\n",
      "Compiling stats for miscfeature\n",
      "Compiling stats for miscval\n",
      "Compiling stats for mosold\n",
      "Compiling stats for yrsold\n",
      "Compiling stats for saletype\n",
      "Compiling stats for salecondition\n",
      "Compiling stats for saleprice\n"
     ]
    }
   ],
   "source": [
    "schema.build(data=all_data, silent=False, domains={\n",
    "    '1stflrsf': (1000, None),\n",
    "    '2ndflrsf': (None, 1000),\n",
    "    '3ssnporch': (100, 5000),\n",
    "    'alley': {'Grvl'}\n",
    "})\n",
    "\n",
    "#Let's also save it for later use.\n",
    "schema.save(\"houses-cheap-built.json\")"
   ]
  },
  {
   "source": [
    "## Inspecting the schema\n",
    "RDV offers toolign to inspect the schema's that are built. Let's laod the schema (just because we can) and inspect it."
   ],
   "cell_type": "markdown",
   "metadata": {}
  },
  {
   "cell_type": "code",
   "execution_count": 6,
   "metadata": {},
   "outputs": [
    {
     "output_type": "execute_result",
     "data": {
      "text/plain": [
       "<IPython.lib.display.IFrame at 0x7f83463cac90>"
      ],
      "text/html": "\n        <iframe\n            width=\"1000\"\n            height=\"600\"\n            src=\".tmpk_c8t6ji/view/schema.html\"\n            frameborder=\"0\"\n            allowfullscreen\n        ></iframe>\n        "
     },
     "metadata": {},
     "execution_count": 6
    }
   ],
   "source": [
    "from IPython.display import IFrame\n",
    "\n",
    "schema = Schema.load(\"houses-cheap-built.json\")\n",
    "IFrame(src=schema.view(outdir=\".\"), width=1000, height=600)"
   ]
  },
  {
   "source": [
    "Alternatively, we can plot a certain point of interest (poi) on the schema, to see how it compares to the training distributions. We can also specify that we want to show the schema in a new broser window."
   ],
   "cell_type": "markdown",
   "metadata": {}
  },
  {
   "cell_type": "code",
   "execution_count": 7,
   "metadata": {},
   "outputs": [
    {
     "output_type": "execute_result",
     "data": {
      "text/plain": [
       "PosixPath('/var/folders/cn/ht7pqf_j1hg6l7b552dnfvrw0000gn/T/.tmp66fwuxy_/view/schema.html')"
      ]
     },
     "metadata": {},
     "execution_count": 7
    }
   ],
   "source": [
    "schema.view(poi=all_data.iloc[2, :], mode=\"external\")"
   ]
  },
  {
   "source": [
    "## Validating new data\n",
    "To use the data schema to check incomping data in your production system, simply load it from JSON and call `check(data)`. This will output tags that can be used as metric in any monitoring platform, but they integrate perticularly well with [Raymon.ai](https://raymon.ai)"
   ],
   "cell_type": "markdown",
   "metadata": {}
  },
  {
   "cell_type": "code",
   "execution_count": 8,
   "metadata": {},
   "outputs": [
    {
     "output_type": "execute_result",
     "data": {
      "text/plain": [
       "[{'type': 'schema-feature',\n",
       "  'name': 'mssubclass',\n",
       "  'value': 60.0,\n",
       "  'group': 'auto-defined@0.0.1'},\n",
       " {'type': 'schema-feature',\n",
       "  'name': 'mszoning',\n",
       "  'value': 'RL',\n",
       "  'group': 'auto-defined@0.0.1'},\n",
       " {'type': 'schema-feature',\n",
       "  'name': 'lotfrontage',\n",
       "  'value': 62.0,\n",
       "  'group': 'auto-defined@0.0.1'},\n",
       " {'type': 'schema-feature',\n",
       "  'name': 'lotarea',\n",
       "  'value': 7917.0,\n",
       "  'group': 'auto-defined@0.0.1'},\n",
       " {'type': 'schema-feature',\n",
       "  'name': 'street',\n",
       "  'value': 'Pave',\n",
       "  'group': 'auto-defined@0.0.1'},\n",
       " {'type': 'schema-error',\n",
       "  'name': 'alley-err',\n",
       "  'value': 'Value NaN',\n",
       "  'group': 'auto-defined@0.0.1'},\n",
       " {'type': 'schema-feature',\n",
       "  'name': 'lotshape',\n",
       "  'value': 'Reg',\n",
       "  'group': 'auto-defined@0.0.1'},\n",
       " {'type': 'schema-feature',\n",
       "  'name': 'landcontour',\n",
       "  'value': 'Lvl',\n",
       "  'group': 'auto-defined@0.0.1'},\n",
       " {'type': 'schema-feature',\n",
       "  'name': 'utilities',\n",
       "  'value': 'AllPub',\n",
       "  'group': 'auto-defined@0.0.1'},\n",
       " {'type': 'schema-feature',\n",
       "  'name': 'lotconfig',\n",
       "  'value': 'Inside',\n",
       "  'group': 'auto-defined@0.0.1'}]"
      ]
     },
     "metadata": {},
     "execution_count": 8
    }
   ],
   "source": [
    "row = all_data.iloc[-1, :]\n",
    "tags = schema.check(row)\n",
    "tags[:10]"
   ]
  },
  {
   "source": [
    "There are a few things of note here. \n",
    "First of all, all the extracted feature values are returned. This is useful for when you want to track feature distributions on your monitoring backend (which is what happens on the Raymon.ai platform). Also note that these features are not necessarily the ones going into your ML model.\n",
    "\n",
    "Secondly, the feature `Alley` gives rise to 2 tags: one being the feature (`nan`) and one being a schema error, indicating that `nan` is not a valid feature value. Raymon will also check whether the data under test is between the observed `min` and `max` during building. If this is not the case, an error tag will be added for that feature. These error tags can also be sent to your preferred monitoring solution to track the amount of faulty data in your system."
   ],
   "cell_type": "markdown",
   "metadata": {}
  },
  {
   "cell_type": "code",
   "execution_count": 9,
   "metadata": {},
   "outputs": [
    {
     "output_type": "execute_result",
     "data": {
      "text/plain": [
       "[{'type': 'schema-error',\n",
       "  'name': 'alley-err',\n",
       "  'value': 'Value NaN',\n",
       "  'group': 'auto-defined@0.0.1'},\n",
       " {'type': 'schema-feature',\n",
       "  'name': 'lotshape',\n",
       "  'value': 'Reg',\n",
       "  'group': 'auto-defined@0.0.1'}]"
      ]
     },
     "metadata": {},
     "execution_count": 9
    }
   ],
   "source": [
    "tags[5:7]"
   ]
  },
  {
   "source": [
    "The output above is structured for easy integration with the Raymon.ai platform, you can also return the tags as normal objects, that can be converted to any form you like to integrate with your monitoring solution."
   ],
   "cell_type": "markdown",
   "metadata": {}
  },
  {
   "cell_type": "code",
   "execution_count": 10,
   "metadata": {},
   "outputs": [
    {
     "output_type": "execute_result",
     "data": {
      "text/plain": [
       "[Tag(name='mssubclass, value=60.0, type=schema-feature, group=auto-defined@0.0.1,\n",
       " Tag(name='mszoning, value=RL, type=schema-feature, group=auto-defined@0.0.1,\n",
       " Tag(name='lotfrontage, value=62.0, type=schema-feature, group=auto-defined@0.0.1,\n",
       " Tag(name='lotarea, value=7917.0, type=schema-feature, group=auto-defined@0.0.1,\n",
       " Tag(name='street, value=Pave, type=schema-feature, group=auto-defined@0.0.1,\n",
       " Tag(name='alley-err, value=Value NaN, type=schema-error, group=auto-defined@0.0.1,\n",
       " Tag(name='lotshape, value=Reg, type=schema-feature, group=auto-defined@0.0.1,\n",
       " Tag(name='landcontour, value=Lvl, type=schema-feature, group=auto-defined@0.0.1,\n",
       " Tag(name='utilities, value=AllPub, type=schema-feature, group=auto-defined@0.0.1,\n",
       " Tag(name='lotconfig, value=Inside, type=schema-feature, group=auto-defined@0.0.1]"
      ]
     },
     "metadata": {},
     "execution_count": 10
    }
   ],
   "source": [
    "tags = schema.check(row, convert_json=False)\n",
    "tags[:10]"
   ]
  },
  {
   "source": [
    "## Comparing schemas\n",
    "Checking for invalid feature values only says so much. Comparing distributions tells more. This is exactly what can be done with the `schema.compare(other)` method, as illustrated below. This function will perform a statistical test on every feature to check whether they have the same distribution."
   ],
   "cell_type": "markdown",
   "metadata": {}
  },
  {
   "cell_type": "code",
   "execution_count": 11,
   "metadata": {},
   "outputs": [
    {
     "output_type": "execute_result",
     "data": {
      "text/plain": [
       "PosixPath('/var/folders/cn/ht7pqf_j1hg6l7b552dnfvrw0000gn/T/.tmpaugi66se/view/schema.html')"
      ]
     },
     "metadata": {},
     "execution_count": 11
    }
   ],
   "source": [
    "\n",
    "exp_data = pd.read_csv(\"./data_sample/houseprices/subset-exp.csv\").drop(\"Id\", axis=\"columns\")\n",
    "schema_exp = Schema(\n",
    "    name=\"expensive\", \n",
    "    version=\"0.0.1\", \n",
    "    features=construct_features(all_data.dtypes))\n",
    "    \n",
    "schema_exp.build(exp_data)\n",
    "schema.compare(schema_exp, mode='external')"
   ]
  },
  {
   "source": [
    "As we can see, most features have a different distriution between those 2 schemas. This is as expected: one is built for houses on the cheap end of the price spectrum, the other on houses on the expensive end. Finding out about such distribution shifts is important to be able to maintain reliable ML systems.\n",
    "\n",
    "Note: comparing schemas like this is exactly what we do on the Raymon.ai backend."
   ],
   "cell_type": "markdown",
   "metadata": {}
  },
  {
   "source": [
    "As a sanity check, we can sample the same dataframe twice and see whether there are distribution changes detected."
   ],
   "cell_type": "markdown",
   "metadata": {}
  },
  {
   "cell_type": "code",
   "execution_count": 12,
   "metadata": {},
   "outputs": [
    {
     "output_type": "execute_result",
     "data": {
      "text/plain": [
       "PosixPath('/var/folders/cn/ht7pqf_j1hg6l7b552dnfvrw0000gn/T/.tmpbwvq1t6l/view/schema.html')"
      ]
     },
     "metadata": {},
     "execution_count": 12
    }
   ],
   "source": [
    "dfs1 = exp_data.sample(frac=0.6)\n",
    "dfs2 = exp_data.sample(frac=0.6)\n",
    "\n",
    "s1schema = Schema(\n",
    "    name=\"s1\", \n",
    "    features=construct_features(all_data.dtypes)\n",
    "    )\n",
    "\n",
    "s2schema = Schema(\n",
    "name=\"s1\", \n",
    "features=construct_features(all_data.dtypes)\n",
    ")\n",
    "    \n",
    "s1schema.build(dfs1)\n",
    "s2schema.build(dfs2)\n",
    "\n",
    "s1schema.compare(s2schema, mode=\"external\")\n",
    "\n"
   ]
  },
  {
   "cell_type": "code",
   "execution_count": 13,
   "metadata": {},
   "outputs": [
    {
     "output_type": "error",
     "ename": "NameError",
     "evalue": "name 'fpath' is not defined",
     "traceback": [
      "\u001b[0;31m---------------------------------------------------------------------------\u001b[0m",
      "\u001b[0;31mNameError\u001b[0m                                 Traceback (most recent call last)",
      "\u001b[0;32m<ipython-input-13-400c766af284>\u001b[0m in \u001b[0;36m<module>\u001b[0;34m\u001b[0m\n\u001b[0;32m----> 1\u001b[0;31m \u001b[0mfpath\u001b[0m\u001b[0;34m\u001b[0m\u001b[0;34m\u001b[0m\u001b[0m\n\u001b[0m",
      "\u001b[0;31mNameError\u001b[0m: name 'fpath' is not defined"
     ]
    }
   ],
   "source": []
  },
  {
   "cell_type": "code",
   "execution_count": 14,
   "metadata": {},
   "outputs": [],
   "source": []
  },
  {
   "cell_type": "code",
   "execution_count": null,
   "metadata": {},
   "outputs": [],
   "source": []
  }
 ]
}